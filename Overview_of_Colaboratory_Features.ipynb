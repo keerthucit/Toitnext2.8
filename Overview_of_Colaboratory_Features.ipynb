{
  "nbformat": 4,
  "nbformat_minor": 0,
  "metadata": {
    "colab": {
      "name": "Overview of Colaboratory Features",
      "version": "0.3.2",
      "provenance": [],
      "collapsed_sections": [],
      "toc_visible": true,
      "include_colab_link": true
    },
    "kernelspec": {
      "display_name": "Python 3",
      "name": "python3"
    }
  },
  "cells": [
    {
      "cell_type": "markdown",
      "metadata": {
        "id": "view-in-github",
        "colab_type": "text"
      },
      "source": [
        "[View in Colaboratory](https://colab.research.google.com/github/keerthucit/Toitnext2.8/blob/master/Overview_of_Colaboratory_Features.ipynb)"
      ]
    },
    {
      "metadata": {
        "id": "DRxphuI6O_3w",
        "colab_type": "code",
        "colab": {
          "base_uri": "https://localhost:8080/",
          "height": 34
        },
        "outputId": "260f436e-cf49-4065-f298-38465a1a3d65"
      },
      "cell_type": "code",
      "source": [
        "def QuickSort(qarr):\n",
        "    if len(qarr) <= 1:\n",
        "        return qarr\n",
        "    pivotElement = qarr[len(qarr) // 2]\n",
        "    leftArr = [i for i in qarr if i < pivotElement]\n",
        "    midArr = [i for i in qarr if i == pivotElement]\n",
        "    rightArr = [i for i in qarr if i > pivotElement]\n",
        "    return QuickSort(leftArr) + midArr + QuickSort(rightArr)\n",
        "\n",
        "print(QuickSort([4,7,9,11,11,2,1]))"
      ],
      "execution_count": 146,
      "outputs": [
        {
          "output_type": "stream",
          "text": [
            "[1, 2, 4, 7, 9, 11, 11]\n"
          ],
          "name": "stdout"
        }
      ]
    },
    {
      "metadata": {
        "id": "2JlycCGxPneJ",
        "colab_type": "code",
        "colab": {
          "base_uri": "https://localhost:8080/",
          "height": 187
        },
        "outputId": "0e5ca1ea-807b-498b-8897-9f84bbf974ba"
      },
      "cell_type": "code",
      "source": [
        "var = 3\n",
        "print(type(var)) \n",
        "print(var)      \n",
        "print(var + 1)   \n",
        "print(var - 1)   \n",
        "print(var * 2)   \n",
        "print(var ** 2)  \n",
        "var += 1\n",
        "print(var)  \n",
        "var *= 2\n",
        "print(var)  \n",
        "vary = 2.5\n",
        "print(type(vary)) \n",
        "print(vary, vary + 1, vary * 2, vary ** 2) "
      ],
      "execution_count": 147,
      "outputs": [
        {
          "output_type": "stream",
          "text": [
            "<class 'int'>\n",
            "3\n",
            "4\n",
            "2\n",
            "6\n",
            "9\n",
            "4\n",
            "8\n",
            "<class 'float'>\n",
            "2.5 3.5 5.0 6.25\n"
          ],
          "name": "stdout"
        }
      ]
    },
    {
      "metadata": {
        "id": "lLoC90FxRemK",
        "colab_type": "code",
        "colab": {
          "base_uri": "https://localhost:8080/",
          "height": 102
        },
        "outputId": "999f94e0-da44-4e10-9b6f-c35792ee6e43"
      },
      "cell_type": "code",
      "source": [
        "boolT = True\n",
        "boolF = False\n",
        "print(type(boolT)) # Prints \"<class 'bool'>\"\n",
        "print(boolT and boolF) # Logical AND; prints \"False\"\n",
        "print(boolT or boolF)  # Logical OR; prints \"True\"\n",
        "print(not boolT)   # Logical NOT; prints \"False\"\n",
        "print(boolT != boolF)  # Logical XOR; prints \"True\""
      ],
      "execution_count": 150,
      "outputs": [
        {
          "output_type": "stream",
          "text": [
            "<class 'bool'>\n",
            "False\n",
            "True\n",
            "False\n",
            "True\n"
          ],
          "name": "stdout"
        }
      ]
    },
    {
      "metadata": {
        "id": "QG1bKO1zRzAi",
        "colab_type": "code",
        "colab": {
          "base_uri": "https://localhost:8080/",
          "height": 85
        },
        "outputId": "d3e183c0-ff03-4d1d-ebc5-56fb84b48a2a"
      },
      "cell_type": "code",
      "source": [
        "h = 'hello'    # String literals can use single quotes\n",
        "w = \"EIPians\"    # or double quotes; it does not matter.\n",
        "print(h)       # Prints \"hello\"\n",
        "print(len(h))  # String length; prints \"5\"\n",
        "hwconcat = h + ' ' + w  # String concatenation\n",
        "print(hwconcat)  # prints \"hello world\"\n",
        "hwstyle = '%s %s %d' % (h, w, 12)  # sprintf style string formatting\n",
        "print(hwstyle)  # prints \"hello world 12\""
      ],
      "execution_count": 152,
      "outputs": [
        {
          "output_type": "stream",
          "text": [
            "hello\n",
            "5\n",
            "hello EIPians\n",
            "hello EIPians 12\n"
          ],
          "name": "stdout"
        }
      ]
    }
  ]
}